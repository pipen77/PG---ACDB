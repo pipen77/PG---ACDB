{
 "cells": [
  {
   "cell_type": "code",
   "execution_count": 1,
   "metadata": {},
   "outputs": [
    {
     "name": "stdout",
     "output_type": "stream",
     "text": [
      "Renombrado y copia completados.\n"
     ]
    }
   ],
   "source": [
    "import os\n",
    "import shutil\n",
    "\n",
    "# Define las carpetas y sus prefijos\n",
    "folders = {\n",
    "    './DigitalMultimediaInteractico': 'dmi_',\n",
    "    './GeneralistaIntegradora': 'gi_',\n",
    "    './GraficoVisual': 'gv_',\n",
    "    './IndustrialProducto': 'ip_',\n",
    "    './InterioresEspacios': 'ie_',\n",
    "    './ModaTextil': 'mt_'\n",
    "}\n",
    "\n",
    "# Carpeta de destino para los archivos renombrados\n",
    "output_base_path = './1_clasificados'\n",
    "\n",
    "# Crea la carpeta de destino si no existe\n",
    "if not os.path.exists(output_base_path):\n",
    "    os.makedirs(output_base_path)\n",
    "\n",
    "# Recorre cada carpeta y aplica las modificaciones\n",
    "for folder_path, prefix in folders.items():\n",
    "    # Crea una subcarpeta en la salida para mantener orden\n",
    "    output_folder = os.path.join(output_base_path, os.path.basename(folder_path))\n",
    "    if not os.path.exists(output_folder):\n",
    "        os.makedirs(output_folder)\n",
    "    \n",
    "    # Procesa los archivos de la carpeta\n",
    "    for filename in os.listdir(folder_path):\n",
    "        if filename.endswith('.txt'):\n",
    "            input_file_path = os.path.join(folder_path, filename)\n",
    "            output_file_path = os.path.join(output_folder, prefix + filename)\n",
    "            \n",
    "            # Copia el archivo con el nuevo nombre\n",
    "            shutil.copy(input_file_path, output_file_path)\n",
    "\n",
    "print(\"Renombrado y copia completados.\")"
   ]
  }
 ],
 "metadata": {
  "kernelspec": {
   "display_name": "Python 3",
   "language": "python",
   "name": "python3"
  },
  "language_info": {
   "codemirror_mode": {
    "name": "ipython",
    "version": 3
   },
   "file_extension": ".py",
   "mimetype": "text/x-python",
   "name": "python",
   "nbconvert_exporter": "python",
   "pygments_lexer": "ipython3",
   "version": "3.12.3"
  }
 },
 "nbformat": 4,
 "nbformat_minor": 2
}
