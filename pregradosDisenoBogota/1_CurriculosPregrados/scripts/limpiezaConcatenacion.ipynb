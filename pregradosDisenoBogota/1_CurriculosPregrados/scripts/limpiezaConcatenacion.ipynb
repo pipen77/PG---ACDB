{
 "cells": [
  {
   "cell_type": "code",
   "execution_count": null,
   "metadata": {},
   "outputs": [],
   "source": [
    "import os\n",
    "import re\n",
    "\n",
    "# Define las carpetas y sus prefijos\n",
    "folders = {\n",
    "    './DigitalMultimediaInteractico': 'digital-multimedia-interaccion',\n",
    "    './GeneralistaIntegradora': 'generalista-integrador',\n",
    "    './GraficoVisual': 'grafico-visual',\n",
    "    './IndustrialProducto': 'industrial-producto',\n",
    "    './InterioresEspacios': 'interiores-espacios',\n",
    "    './ModaTextil': 'moda-textiles'\n",
    "}\n",
    "\n",
    "# Carpeta de destino para los archivos combinados y limpiados\n",
    "output_base_path = './1_limpios_combined'\n",
    "\n",
    "# Crea la carpeta de destino si no existe\n",
    "if not os.path.exists(output_base_path):\n",
    "    os.makedirs(output_base_path)\n",
    "\n",
    "# Procesa cada carpeta\n",
    "for folder_path, prefix in folders.items():\n",
    "    combined_text = \"\"  # Variable para almacenar todo el texto de la categoría\n",
    "    \n",
    "    for filename in os.listdir(folder_path):\n",
    "        if filename.endswith('.txt'):\n",
    "            input_file_path = os.path.join(folder_path, filename)\n",
    "            \n",
    "            # Leer el contenido del archivo\n",
    "            with open(input_file_path, 'r', encoding='utf-8') as file:\n",
    "                text = file.read()\n",
    "                # Limpia caracteres no deseados (mantiene letras, números y espacios)\n",
    "                cleaned_text = re.sub(r'[^a-zA-ZáéíóúÁÉÍÓÚñÑ\\s\\d]', '', text)\n",
    "                # Agregar el nombre del archivo como título y su contenido limpio\n",
    "                combined_text += f\"--- {filename} ---\\n{cleaned_text}\\n\\n\"\n",
    "    \n",
    "    # Guardar el texto combinado y limpio en un archivo único por categoría\n",
    "    output_file_path = os.path.join(output_base_path, f\"{prefix}_combined_cleaned.txt\")\n",
    "    with open(output_file_path, 'w', encoding='utf-8') as output_file:\n",
    "        output_file.write(combined_text)\n",
    "\n",
    "print(\"Archivos combinados y limpiados por categoría creados exitosamente, con nombres de archivo incluidos.\")"
   ]
  }
 ],
 "metadata": {
  "language_info": {
   "name": "python"
  }
 },
 "nbformat": 4,
 "nbformat_minor": 2
}
