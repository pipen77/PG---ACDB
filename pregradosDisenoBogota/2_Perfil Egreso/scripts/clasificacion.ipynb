{
 "cells": [
  {
   "cell_type": "code",
   "execution_count": null,
   "metadata": {},
   "outputs": [],
   "source": [
    "import os\n",
    "\n",
    "# Define las carpetas y sus prefijos\n",
    "folders = {\n",
    "    './DigitalMultimediaInteractico': 'dmi_',\n",
    "    './GeneralistaIntegradora': 'gi_',\n",
    "    './GraficoVisual': 'gv_',\n",
    "    './IndustrialProducto': 'ip_',\n",
    "    './InterioresEspacios': 'ie_',\n",
    "    './ModaTextil': 'mt_'\n",
    "}\n",
    "\n",
    "# Carpeta de destino para los archivos limpiados\n",
    "output_base_path = './1_limpios'\n",
    "\n",
    "# Crea la carpeta de destino si no existe\n",
    "if not os.path.exists(output_base_path):\n",
    "    os.makedirs(output_base_path)\n",
    "\n",
    "# Recorre cada carpeta y aplica las modificaciones\n",
    "for folder_path, prefix in folders.items():\n",
    "    # Crea una subcarpeta en la salida para mantener orden\n",
    "    output_folder = os.path.join(output_base_path, os.path.basename(folder_path))\n",
    "    if not os.path.exists(output_folder):\n",
    "        os.makedirs(output_folder)\n",
    "    \n",
    "    # Procesa los archivos de la carpeta\n",
    "    for filename in os.listdir(folder_path):\n",
    "        if filename.endswith('.txt'):\n",
    "            input_file_path = os.path.join(folder_path, filename)\n",
    "            output_file_path = os.path.join(output_folder, prefix + filename)\n",
    "\n",
    "            \n",
    "\n",
    "print(\"Proceso completado. Archivos renombrados.\")  "
   ]
  }
 ],
 "metadata": {
  "language_info": {
   "name": "python"
  }
 },
 "nbformat": 4,
 "nbformat_minor": 2
}
