{
 "cells": [
  {
   "cell_type": "code",
   "execution_count": 7,
   "metadata": {},
   "outputs": [
    {
     "name": "stdout",
     "output_type": "stream",
     "text": [
      "A bit has no color, size, or weight, and it can travel at the speedof light. It is the smallest atomic element in the DNA of information.It is a state of being: on or off, true or false, up or clown,in or out, black or white. For practica! purposes we considerabit to be a 1 ora O. The meaning of the 1 or the O is a separatematter. In the early days of computing, a string of bits mostcommonly represented numerical information.\n"
     ]
    }
   ],
   "source": [
    "# PARA PARRAFOS CORTOS\n",
    "\n",
    "# Cargar una variable con saltos de línea\n",
    "texto_con_saltos = \"\"\"A bit has no color, size, or weight, and it can travel at the speed\n",
    "of light. It is the smallest atomic element in the DNA of information.\n",
    "It is a state of being: on or off, true or false, up or clown,\n",
    "in or out, black or white. For practica! purposes we considera\n",
    "bit to be a 1 ora O. The meaning of the 1 or the O is a separate\n",
    "matter. In the early days of computing, a string of bits most\n",
    "commonly represented numerical information.\"\"\"\n",
    "\n",
    "# Eliminar los saltos de línea del texto\n",
    "texto_sin_saltos = texto_con_saltos.replace('\\n', '')\n",
    "\n",
    "# Imprimir el texto sin saltos de línea\n",
    "print(texto_sin_saltos)"
   ]
  },
  {
   "cell_type": "code",
   "execution_count": 1,
   "metadata": {},
   "outputs": [
    {
     "name": "stdout",
     "output_type": "stream",
     "text": [
      "Se ha creado el archivo 'archivo_sin_saltos.txt' sin saltos de línea.\n"
     ]
    }
   ],
   "source": [
    "# PARA BLOQUES MÁS EXTENSOS\n",
    "# Abrir el archivo de texto original en modo lectura\n",
    "with open('archivo_original.txt', 'r') as archivo_original:\n",
    "    # Leer todas las líneas del archivo\n",
    "    lineas = archivo_original.readlines()\n",
    "\n",
    "# Abrir un nuevo archivo de texto en modo escritura\n",
    "with open('archivo_sin_saltos.txt', 'w') as archivo_sin_saltos:\n",
    "    # Iterar sobre cada línea del archivo original\n",
    "    for linea in lineas:\n",
    "        # Eliminar el salto de línea de la línea actual y escribir en el nuevo archivo\n",
    "        archivo_sin_saltos.write(linea.rstrip() + ' ')\n",
    "\n",
    "print(\"Se ha creado el archivo 'archivo_sin_saltos.txt' sin saltos de línea.\")"
   ]
  }
 ],
 "metadata": {
  "kernelspec": {
   "display_name": "Python 3",
   "language": "python",
   "name": "python3"
  },
  "language_info": {
   "codemirror_mode": {
    "name": "ipython",
    "version": 3
   },
   "file_extension": ".py",
   "mimetype": "text/x-python",
   "name": "python",
   "nbconvert_exporter": "python",
   "pygments_lexer": "ipython3",
   "version": "3.12.2"
  }
 },
 "nbformat": 4,
 "nbformat_minor": 2
}
